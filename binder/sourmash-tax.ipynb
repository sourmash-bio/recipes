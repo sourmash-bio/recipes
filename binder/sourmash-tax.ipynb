{
 "cells": [
  {
   "cell_type": "markdown",
   "id": "51d82685-3462-4fe0-bcde-3fc3b109f81f",
   "metadata": {},
   "source": [
    "# `sourmash tax` submodule\n",
    "### for integrating taxonomic information"
   ]
  },
  {
   "cell_type": "markdown",
   "id": "7154559b-6450-4e06-a133-40405e8f28bf",
   "metadata": {},
   "source": [
    "The sourmash tax (alias `taxonomy`) commands integrate taxonomic information into the results of sourmash gather. tax commands require a properly formatted taxonomy csv file that corresponds to the database used  for gather. For supported databases (e.g. GTDB), we provide these files, but they can also be generated for user-generated databases. For more information, see the [databases documentation](https://sourmash.readthedocs.io/en/latest/databases.html).\n",
    "\n",
    "These commands rely upon the fact that gather results are non-overlapping: the fraction match for gather on each query will be between 0 (no database matches) and 1 (100% of query matched). We use this property   to aggregate gather matches at the desired taxonomic rank. For example, if the gather results for a metagenome include results for 30 different strains of a given species, we can sum the fraction match to each    strain to obtain the fraction match to this species.\n",
    "\n",
    "As with all reference-based analysis, results can be affected by the completeness of the reference database. However, summarizing taxonomic results from gather minimizes the impact of reference database issues    that can derail standard k-mer LCA approaches. See the [blog post]() for a full explanation, and the [`sourmash tax` documentation](https://sourmash.readthedocs.io/en/latest/command-line.html#sourmash-tax-prepare-prepare-and-or-combine-taxonomy-files) for additional usage details."
   ]
  },
  {
   "cell_type": "markdown",
   "id": "7b166ffd-761f-450b-b66c-72f0e2178769",
   "metadata": {
    "tags": []
   },
   "source": [
    "## Download example inputs for `sourmash tax`\n",
    "\n",
    "In this example, we'll be using a small test dataset run against both the `GTDB-rs202` database\n",
    "and our legacy `Genbank` database. (New genbank databases coming soon, please bear with us :).\n"
   ]
  },
  {
   "cell_type": "markdown",
   "id": "828647b3-c823-4b0e-b231-6c71b1f5a266",
   "metadata": {},
   "source": [
    "#### download and look at the gtdb-rs202 lineage file\n",
    "\n",
    "This is the taxonomy file in `csv` format.\n",
    "The column headers for `GTDB` are the accession (`ident`), and the taxonomic ranks `superkingdom` --> `species`."
   ]
  },
  {
   "cell_type": "code",
   "execution_count": 1,
   "id": "00c3cfa0-1395-4311-ab0f-61405ff880f2",
   "metadata": {},
   "outputs": [
    {
     "name": "stderr",
     "output_type": "stream",
     "text": [
      "  % Total    % Received % Xferd  Average Speed   Time    Time     Time  Current\n",
      "                                 Dload  Upload   Total   Spent    Left  Speed\n",
      "100   483  100   483    0     0    273      0  0:00:01  0:00:01 --:--:--   273\n",
      "100 35.2M  100 35.2M    0     0  5497k      0  0:00:06  0:00:06 --:--:--  9.8M\n"
     ]
    }
   ],
   "source": [
    "%%bash\n",
    "\n",
    "mkdir -p lineages\n",
    "curl -L https://osf.io/p6z3w/download -o lineages/gtdb-rs202.taxonomy.csv"
   ]
  },
  {
   "cell_type": "code",
   "execution_count": 2,
   "id": "772d962e-113a-47a1-9ce8-dcba09a05ae3",
   "metadata": {},
   "outputs": [
    {
     "name": "stdout",
     "output_type": "stream",
     "text": [
      "ident,superkingdom,phylum,class,order,family,genus,species\n",
      "GCF_014075335.1,d__Bacteria,p__Proteobacteria,c__Gammaproteobacteria,o__Enterobacterales,f__Enterobacteriaceae,g__Escherichia,s__Escherichia flexneri\n",
      "GCF_002310555.1,d__Bacteria,p__Proteobacteria,c__Gammaproteobacteria,o__Enterobacterales,f__Enterobacteriaceae,g__Escherichia,s__Escherichia flexneri\n",
      "GCF_900013275.1,d__Bacteria,p__Proteobacteria,c__Gammaproteobacteria,o__Enterobacterales,f__Enterobacteriaceae,g__Escherichia,s__Escherichia flexneri\n",
      "GCF_000168095.1,d__Bacteria,p__Proteobacteria,c__Gammaproteobacteria,o__Enterobacterales,f__Enterobacteriaceae,g__Escherichia,s__Escherichia flexneri\n",
      "GCF_002459845.1,d__Bacteria,p__Proteobacteria,c__Gammaproteobacteria,o__Enterobacterales,f__Enterobacteriaceae,g__Escherichia,s__Escherichia flexneri\n",
      "GCF_001614695.1,d__Bacteria,p__Proteobacteria,c__Gammaproteobacteria,o__Enterobacterales,f__Enterobacteriaceae,g__Escherichia,s__Escherichia flexneri\n",
      "GCF_000356585.2,d__Bacteria,p__Proteobacteria,c__Gammaproteobacteria,o__Enterobacterales,f__Enterobacteriaceae,g__Escherichia,s__Escherichia flexneri\n",
      "GCF_014528595.1,d__Bacteria,p__Proteobacteria,c__Gammaproteobacteria,o__Enterobacterales,f__Enterobacteriaceae,g__Escherichia,s__Escherichia flexneri\n",
      "GCF_900196445.1,d__Bacteria,p__Proteobacteria,c__Gammaproteobacteria,o__Enterobacterales,f__Enterobacteriaceae,g__Escherichia,s__Escherichia flexneri\n"
     ]
    }
   ],
   "source": [
    "%%bash\n",
    "head lineages/gtdb-rs202.taxonomy.csv"
   ]
  },
  {
   "cell_type": "code",
   "execution_count": null,
   "id": "402d033e-cca5-4335-881b-6cd899b038f6",
   "metadata": {},
   "outputs": [],
   "source": []
  },
  {
   "cell_type": "markdown",
   "id": "aec2b1c3-d368-4cb7-9363-af7645c2d9d7",
   "metadata": {},
   "source": [
    "#### download NCBI lineage files\n",
    "\n",
    "Now let's go ahead and grab the Genbank taxonomy files as well. "
   ]
  },
  {
   "cell_type": "code",
   "execution_count": 3,
   "id": "f11dce9b-a28c-46b7-aab3-3e9ac22b9704",
   "metadata": {},
   "outputs": [
    {
     "name": "stderr",
     "output_type": "stream",
     "text": [
      "  % Total    % Received % Xferd  Average Speed   Time    Time     Time  Current\n",
      "                                 Dload  Upload   Total   Spent    Left  Speed\n",
      "100   459  100   459    0     0   1267      0 --:--:-- --:--:-- --:--:--  1267\n",
      "100 83.1M  100 83.1M    0     0  16.5M      0  0:00:05  0:00:05 --:--:-- 20.6M\n",
      "  % Total    % Received % Xferd  Average Speed   Time    Time     Time  Current\n",
      "                                 Dload  Upload   Total   Spent    Left  Speed\n",
      "100   459  100   459    0     0    803      0 --:--:-- --:--:-- --:--:--   803\n",
      "100  107k  100  107k    0     0  64622      0  0:00:01  0:00:01 --:--:--  474k\n"
     ]
    }
   ],
   "source": [
    "%%bash\n",
    "curl -L https://osf.io/cbhgd/download -o lineages/bacteria_genbank_lineages.csv\n",
    "curl -L https://osf.io/urtfx/download -o lineages/protozoa_genbank_lineages.csv"
   ]
  },
  {
   "cell_type": "markdown",
   "id": "e7e1ad72-213e-4db8-bbd7-6dee985d6aaf",
   "metadata": {},
   "source": [
    "If you do a `head` on these files, you'll notice they have an extra `taxid` column, but otherwise follow the same format."
   ]
  },
  {
   "cell_type": "code",
   "execution_count": 4,
   "id": "0f297829-4896-4c65-bcbd-60060aab332e",
   "metadata": {},
   "outputs": [
    {
     "name": "stdout",
     "output_type": "stream",
     "text": [
      "accession,taxid,superkingdom,phylum,class,order,family,genus,species,strain\n",
      "GCA_004431415,2762,Eukaryota,,Glaucocystophyceae,,Cyanophoraceae,Cyanophora,Cyanophora paradoxa,\n",
      "GCA_000150955,556484,Eukaryota,Bacillariophyta,Bacillariophyceae,Naviculales,Phaeodactylaceae,Phaeodactylum,Phaeodactylum tricornutum,Phaeodactylum tricornutum CCAP 1055/1\n",
      "GCA_000310025,2880,Eukaryota,,Phaeophyceae,Ectocarpales,Ectocarpaceae,Ectocarpus,Ectocarpus siliculosus,\n",
      "GCA_000194455,2898,Eukaryota,,Cryptophyceae,Cryptomonadales,Cryptomonadaceae,Cryptomonas,Cryptomonas paramecium,\n",
      "GCA_000372725,280463,Eukaryota,Haptista,Haptophyta,Isochrysidales,Noelaerhabdaceae,Emiliania,Emiliania huxleyi,Emiliania huxleyi CCMP1516\n",
      "GCA_001939145,2951,Eukaryota,,Dinophyceae,Suessiales,Symbiodiniaceae,Symbiodinium,Symbiodinium microadriaticum,\n",
      "GCA_900617105,2996,Eukaryota,,Chrysophyceae,Hydrurales,Hydruraceae,Hydrurus,Hydrurus foetidus,\n",
      "GCA_001638955,158060,Eukaryota,Euglenozoa,Euglenida,Euglenales,Euglenaceae,Euglena,Euglena gracilis,\n",
      "GCA_900893395,3039,Eukaryota,Euglenozoa,Euglenida,Euglenales,Euglenaceae,Euglena,Euglena gracilis,\n"
     ]
    }
   ],
   "source": [
    "%%bash\n",
    "head lineages/protozoa_genbank_lineages.csv"
   ]
  },
  {
   "cell_type": "markdown",
   "id": "8efd6581-d191-4d84-beeb-d51e9525d339",
   "metadata": {
    "tags": []
   },
   "source": [
    "## Combining taxonomies with `sourmash tax prepare`"
   ]
  },
  {
   "cell_type": "markdown",
   "id": "84091228-094a-406d-85f7-5e5ced258abb",
   "metadata": {},
   "source": [
    "All sourmash tax commands must be given one or more taxonomy files as parameters to the `--taxonomy` argument.\n",
    "\n",
    "`sourmash tax prepare` is a utility function that can ingest and validate multiple CSV files or sqlite3\n",
    "databases, and output a CSV file or a sqlite3 database. It can be used to combine multiple taxonomies\n",
    "into a single file, as well as change formats between CSV and sqlite3.\n",
    "\n",
    "> Note: `--taxonomy` files can be either CSV files or (as of sourmash 4.2.1) sqlite3 databases.\n",
    "> sqlite3 databases are much faster for large taxonomies, while CSV files are easier to view\n",
    "> and modify using spreadsheet software.\n",
    "\n",
    "Let's use `tax prepare` to combine the downloaded taxonomies and output into a sqlite3 database:"
   ]
  },
  {
   "cell_type": "code",
   "execution_count": 5,
   "id": "0dc226df-391a-48f4-940a-53ac664b5f8b",
   "metadata": {},
   "outputs": [
    {
     "name": "stdout",
     "output_type": "stream",
     "text": [
      "\u001b[K\n",
      "== This is sourmash version 4.2.1. ==\n",
      "\u001b[K== Please cite Brown and Irber (2016), doi:10.21105/joss.00027. ==\n",
      "\n",
      "usage: \n",
      "\n",
      "    sourmash tax prepare --taxonomy-csv <taxonomy_file> [ ... ] -o <output>\n",
      "\n",
      "The 'tax prepare' command reads in one or more taxonomy databases\n",
      "and saves them into a new database. It can be used to combine databases\n",
      "in the desired order, as well as output different database formats.\n",
      "\n",
      "Please see the 'tax prepare' documentation for more details:\n",
      "  https://sourmash.readthedocs.io/en/latest/command-line.html#sourmash-tax-prepare-prepare-and-or-combine-taxonomy-files\n",
      "\n",
      "optional arguments:\n",
      "  -h, --help            show this help message and exit\n",
      "  -q, --quiet           suppress non-error output\n",
      "  -t FILE [FILE ...], --taxonomy-csv FILE [FILE ...], --taxonomy FILE [FILE ...]\n",
      "                        database lineages\n",
      "  -o OUTPUT, --output OUTPUT\n",
      "                        output file\n",
      "  -F {csv,sql}, --database-format {csv,sql}\n",
      "                        format of output file; default is 'sql')\n",
      "  --keep-full-identifiers\n",
      "                        do not split identifiers on whitespace\n",
      "  --keep-identifier-versions\n",
      "                        after splitting identifiers, do not remove accession\n",
      "                        versions\n",
      "  --fail-on-missing-taxonomy\n",
      "                        fail quickly if taxonomy is not available for an\n",
      "                        identifier\n",
      "  -f, --force           continue past errors in file and taxonomy loading\n"
     ]
    }
   ],
   "source": [
    "# to see the arguments, run the `--help` like so:\n",
    "! sourmash tax prepare --help"
   ]
  },
  {
   "cell_type": "code",
   "execution_count": 6,
   "id": "cda9a93e-be21-4bc3-bf8a-b2f5039db64f",
   "metadata": {},
   "outputs": [
    {
     "name": "stderr",
     "output_type": "stream",
     "text": [
      "\u001b[K\n",
      "== This is sourmash version 4.2.1. ==\n",
      "\u001b[K== Please cite Brown and Irber (2016), doi:10.21105/joss.00027. ==\n",
      "\n",
      "\u001b[Kloading taxonomies...\n",
      "\u001b[K...loaded 882562 entries.\n",
      "\u001b[Ksaving to 'lineages/gtdb-rs202_genbank.taxonomy.db', format sql...\n",
      "\u001b[Kdone!\n"
     ]
    }
   ],
   "source": [
    "%%bash\n",
    "\n",
    "sourmash tax prepare --taxonomy lineages/bacteria_genbank_lineages.csv \\\n",
    "                                lineages/protozoa_genbank_lineages.csv \\\n",
    "                                lineages/gtdb-rs202.taxonomy.csv \\\n",
    "                                -o lineages/gtdb-rs202_genbank.taxonomy.db"
   ]
  },
  {
   "cell_type": "markdown",
   "id": "088e23e7-c078-4e9b-b7fa-e0d3e15d1a34",
   "metadata": {},
   "source": [
    "> Note that the **order is important if the databases contain overlapping\n",
    "accession identifiers**. In this case, GTDB contains only a subset of all identifiers\n",
    "in the NCBI taxonomy. Putting GTDB last here will allow the GTDB lineage information\n",
    "to override the lineage information provided in the NCBI file, thus utilizing GTDB\n",
    "taxonomy when available, and NCBI lienages for all other accessions."
   ]
  },
  {
   "cell_type": "code",
   "execution_count": 7,
   "id": "f2575e8b-7089-4b4e-b970-550e7a4d4b3e",
   "metadata": {},
   "outputs": [
    {
     "name": "stdout",
     "output_type": "stream",
     "text": [
      "total 566776\n",
      " 73856 -rw-r--r--  1 tessa  staff    35M Aug  2 15:16 gtdb-rs202.taxonomy.csv\n",
      "196736 -rw-r--r--  1 tessa  staff    83M Aug  2 15:16 bacteria_genbank_lineages.csv\n",
      "   256 -rw-r--r--  1 tessa  staff   107K Aug  2 15:16 protozoa_genbank_lineages.csv\n",
      "295928 -rw-r--r--  1 tessa  staff   139M Aug  2 15:17 gtdb-rs202_genbank.taxonomy.db\n"
     ]
    }
   ],
   "source": [
    "%%bash\n",
    "ls -lsrht lineages/"
   ]
  },
  {
   "cell_type": "markdown",
   "id": "1ad88b29-031f-447f-b900-07c57c2e10cc",
   "metadata": {},
   "source": [
    "We'll use this prepared database in each of the commands below."
   ]
  },
  {
   "cell_type": "markdown",
   "id": "9cd05afd-4849-4280-8c61-430aa6168c8b",
   "metadata": {
    "tags": []
   },
   "source": [
    "## `sourmash tax metagenome`"
   ]
  },
  {
   "cell_type": "code",
   "execution_count": 8,
   "id": "a9db1d88-4073-4308-940f-3633d1ac97e1",
   "metadata": {},
   "outputs": [
    {
     "name": "stdout",
     "output_type": "stream",
     "text": [
      "\u001b[K\n",
      "== This is sourmash version 4.2.1. ==\n",
      "\u001b[K== Please cite Brown and Irber (2016), doi:10.21105/joss.00027. ==\n",
      "\n",
      "usage: \n",
      "\n",
      "    sourmash tax metagenome --gather-csv <gather_csv> [ ... ] --taxonomy-csv <taxonomy-csv> [ ... ]\n",
      "\n",
      "The 'tax metagenome' command reads in metagenome gather result CSVs and\n",
      "summarizes by taxonomic lineage.\n",
      "\n",
      "The default output format consists of four columns,\n",
      " `query_name,rank,fraction,lineage`, where `fraction` is the fraction\n",
      " of the query matched to that reported rank and lineage. The summarization\n",
      " is reported for each taxonomic rank.\n",
      "\n",
      "Alternatively, you can output results at a specific rank (e.g. species)\n",
      "in `krona` or `lineage_summary` formats.\n",
      "\n",
      "Please see the 'tax metagenome' documentation for more details:\n",
      "  https://sourmash.readthedocs.io/en/latest/command-line.html#sourmash-tax-metagenome-summarize-metagenome-content-from-gather-results\n",
      "\n",
      "optional arguments:\n",
      "  -h, --help            show this help message and exit\n",
      "  -g [GATHER_CSV ...], --gather-csv [GATHER_CSV ...]\n",
      "                        CSVs from sourmash gather\n",
      "  --from-file FILE      input many gather results as a text file, with one\n",
      "                        gather CSV per line\n",
      "  -q, --quiet           suppress non-error output\n",
      "  -o OUTPUT_BASE, --output-base OUTPUT_BASE\n",
      "                        base filepath for output file(s) (default stdout)\n",
      "  --output-dir OUTPUT_DIR\n",
      "                        directory for output files\n",
      "  -t FILE [FILE ...], --taxonomy-csv FILE [FILE ...], --taxonomy FILE [FILE ...]\n",
      "                        database lineages CSV\n",
      "  --keep-full-identifiers\n",
      "                        do not split identifiers on whitespace\n",
      "  --keep-identifier-versions\n",
      "                        after splitting identifiers, do not remove accession\n",
      "                        versions\n",
      "  --fail-on-missing-taxonomy\n",
      "                        fail quickly if taxonomy is not available for an\n",
      "                        identifier\n",
      "  --output-format {csv_summary,krona,lineage_summary} [{csv_summary,krona,lineage_summary} ...]\n",
      "                        choose output format(s)\n",
      "  -r {strain,species,genus,family,order,class,phylum,superkingdom}, --rank {strain,species,genus,family,order,class,phylum,superkingdom}\n",
      "                        For non-default output formats: Summarize genome\n",
      "                        taxonomy at this rank and above. Note that the\n",
      "                        taxonomy CSV must contain lineage information at this\n",
      "                        rank.\n",
      "  -f, --force           continue past errors in taxonomy database loading\n"
     ]
    }
   ],
   "source": [
    "# to see the arguments, run the `--help` like so:\n",
    "! sourmash tax metagenome --help"
   ]
  },
  {
   "cell_type": "markdown",
   "id": "b171f97c-6d47-46e8-9f5c-789a0d34f0cc",
   "metadata": {},
   "source": [
    "#### Download a small demo `sourmash gather` output file from metagenome `HSMA33MX`.\n",
    "This `gather` was run at a DNA ksize of 31 against both GTDB and our legacy Genbank database."
   ]
  },
  {
   "cell_type": "code",
   "execution_count": 9,
   "id": "f548e755-c689-478e-bd36-9d9cd93de4ad",
   "metadata": {},
   "outputs": [
    {
     "name": "stderr",
     "output_type": "stream",
     "text": [
      "  % Total    % Received % Xferd  Average Speed   Time    Time     Time  Current\n",
      "                                 Dload  Upload   Total   Spent    Left  Speed\n",
      "100   459  100   459    0     0   1201      0 --:--:-- --:--:-- --:--:--  1201\n",
      "100  2662  100  2662    0     0   1928      0  0:00:01  0:00:01 --:--:--     0\n"
     ]
    }
   ],
   "source": [
    "%%bash\n",
    "mkdir -p gather\n",
    "curl -L https://osf.io/xb8jg/download -o gather/HSMA33MX_gather_x_gtdbrs202_genbank_k31.csv"
   ]
  },
  {
   "cell_type": "markdown",
   "id": "da34ffbf-4c51-41d0-a62b-a314a55d5654",
   "metadata": {},
   "source": [
    "Take a look at this gather file:"
   ]
  },
  {
   "cell_type": "code",
   "execution_count": 10,
   "id": "4ae43c2d-0b56-4e81-a250-3681fdbe5312",
   "metadata": {},
   "outputs": [
    {
     "name": "stdout",
     "output_type": "stream",
     "text": [
      "intersect_bp,f_orig_query,f_match,f_unique_to_query,f_unique_weighted,average_abund,median_abund,std_abund,name,filename,md5,f_match_orig,unique_intersect_bp,gather_result_rank,remaining_bp,query_filename,query_name,query_md5,query_bp\n",
      "442000,0.08815317112086159,0.08438335242458954,0.08815317112086159,0.05815279361459521,1.6153846153846154,1.0,1.1059438185997785,\"GCF_001881345.1 Escherichia coli strain=SF-596, ASM188134v1\",/group/ctbrowngrp/gtdb/databases/ctb/gtdb-rs202.genomic.k31.sbt.zip,683df1ec13872b4b98d59e98b355b52c,0.042779713511420826,442000,0,4572000,outputs/abundtrim/HSMA33MX.abundtrim.fq.gz,HSMA33MX,9687eeed,5014000\n",
      "390000,0.07778220981252493,0.10416666666666667,0.07778220981252493,0.050496823586903404,1.5897435897435896,1.0,0.8804995294906566,\"GCF_009494285.1 Prevotella copri strain=iAK1218, ASM949428v1\",/group/ctbrowngrp/gtdb/databases/ctb/gtdb-rs202.genomic.k31.sbt.zip,1266c86141e3a5603da61f57dd863ed0,0.052236806857755155,390000,1,4182000,outputs/abundtrim/HSMA33MX.abundtrim.fq.gz,HSMA33MX,9687eeed,5014000\n",
      "206000,0.041084962106102914,0.007403148134837921,0.041084962106102914,0.2215344518651246,13.20388349514563,3.0,69.69466823965065,\"GCA_002754635.1 Plasmodium vivax strain=CMB-1, CMB-1_v2\",/home/irber/sourmash_databases/outputs/sbt/genbank-protozoa-x1e6-k31.sbt.zip,8125e7913e0d0b88deb63c9ad28f827c,0.0037419167332703625,206000,2,3976000,outputs/abundtrim/HSMA33MX.abundtrim.fq.gz,HSMA33MX,9687eeed,5014000\n",
      "138000,0.027522935779816515,0.024722321748477247,0.027522935779816515,0.015637726014008795,1.391304347826087,1.0,0.5702120455914782,\"GCF_013368705.1 Bacteroides vulgatus strain=B33, ASM1336870v1\",/group/ctbrowngrp/gtdb/databases/ctb/gtdb-rs202.genomic.k31.sbt.zip,7d5f4ba1d01c8c3f7a520d19faded7cb,0.012648945921173235,138000,3,3838000,outputs/abundtrim/HSMA33MX.abundtrim.fq.gz,HSMA33MX,9687eeed,5014000\n",
      "338000,0.06741124850418827,0.013789581205311542,0.010769844435580374,0.006515719172503665,1.4814814814814814,1.0,0.738886568268889,\"GCF_003471795.1 Prevotella copri strain=AM16-54, ASM347179v1\",/group/ctbrowngrp/gtdb/databases/ctb/gtdb-rs202.genomic.k31.sbt.zip,0ebd36ff45fc2810808789667f4aad84,0.04337782340862423,54000,4,3784000,outputs/abundtrim/HSMA33MX.abundtrim.fq.gz,HSMA33MX,9687eeed,5014000\n",
      "110000,0.021938571998404467,0.000842978957948319,0.010370961308336658,0.023293696041700604,5.5,2.5,7.417494911978758,\"GCA_000256725.2 Toxoplasma gondii TgCatPRC2 strain=TgCatPRC2, TGCATPRC2 v2\",/home/irber/sourmash_databases/outputs/sbt/genbank-protozoa-x1e6-k31.sbt.zip,2a3b1804cf5ea5fe75dde3e153294548,0.0008909768346023004,52000,5,3732000,outputs/abundtrim/HSMA33MX.abundtrim.fq.gz,HSMA33MX,9687eeed,5014000\n"
     ]
    }
   ],
   "source": [
    "%%bash\n",
    "head gather/HSMA33MX_gather_x_gtdbrs202_genbank_k31.csv"
   ]
  },
  {
   "cell_type": "markdown",
   "id": "38178c3f-cdf9-4a5e-9e45-de806129ef0e",
   "metadata": {
    "tags": []
   },
   "source": [
    "### summarize this metagenome and produce `krona` output at the `species` level:"
   ]
  },
  {
   "cell_type": "code",
   "execution_count": 11,
   "id": "3641722f-eb08-4a5f-ab05-899cecbc49db",
   "metadata": {},
   "outputs": [
    {
     "name": "stderr",
     "output_type": "stream",
     "text": [
      "\u001b[K\n",
      "== This is sourmash version 4.2.1. ==\n",
      "\u001b[K== Please cite Brown and Irber (2016), doi:10.21105/joss.00027. ==\n",
      "\n",
      "\u001b[Kloaded 6 gather results.\n",
      "\u001b[Kof 6, missed 0 lineage assignments.\n",
      "\u001b[Kloaded results from 1 gather CSVs\n",
      "\u001b[Ksaving `csv_summary` output to HSMA33MX.gather-tax.summarized.csv.\n",
      "\u001b[Ksaving `krona` output to HSMA33MX.gather-tax.krona.tsv.\n"
     ]
    }
   ],
   "source": [
    "%%bash\n",
    "sourmash tax metagenome --gather-csv gather/HSMA33MX_gather_x_gtdbrs202_genbank_k31.csv \\\n",
    "                        --taxonomy  lineages/gtdb-rs202_genbank.taxonomy.db \\\n",
    "                        --output-format csv_summary krona --rank species \\\n",
    "                        --output-base HSMA33MX.gather-tax"
   ]
  },
  {
   "cell_type": "code",
   "execution_count": 27,
   "id": "d1e16615-4d64-4101-bc3e-9100576bb56d",
   "metadata": {},
   "outputs": [
    {
     "name": "stdout",
     "output_type": "stream",
     "text": [
      "Writing text.krona.html...\n"
     ]
    }
   ],
   "source": [
    "# build krona plot\n",
    "!ktImportText HSMA33MX.gather-tax.krona.tsv"
   ]
  },
  {
   "cell_type": "markdown",
   "id": "171c5eaf-22f3-4ea8-8419-e4cb9b1621a5",
   "metadata": {},
   "source": [
    "#### This will produce both `csv_summary` and `krona` output files, with the basename `HSMA33MX.gather-tax`:"
   ]
  },
  {
   "cell_type": "code",
   "execution_count": 12,
   "id": "44f60162-adaa-4365-96a3-60fda7882ff1",
   "metadata": {},
   "outputs": [
    {
     "name": "stdout",
     "output_type": "stream",
     "text": [
      "HSMA33MX.gather-tax.krona.tsv\n",
      "HSMA33MX.gather-tax.summarized.csv\n"
     ]
    }
   ],
   "source": [
    "%%bash\n",
    "ls HSMA33MX.gather-tax*"
   ]
  },
  {
   "cell_type": "code",
   "execution_count": 13,
   "id": "9a26a61a-b571-4753-9077-f56aa73a50a5",
   "metadata": {},
   "outputs": [
    {
     "name": "stdout",
     "output_type": "stream",
     "text": [
      "query_name,rank,fraction,lineage,query_md5,query_filename,f_weighted_at_rank,bp_match_at_rank\n",
      "HSMA33MX,superkingdom,0.2042281611487834,d__Bacteria,9687eeed,outputs/abundtrim/HSMA33MX.abundtrim.fq.gz,0.13080306238801107,1024000\n",
      "HSMA33MX,superkingdom,0.051455923414439574,Eukaryota,9687eeed,outputs/abundtrim/HSMA33MX.abundtrim.fq.gz,0.24482814790682522,258000\n",
      "HSMA33MX,superkingdom,0.7443159154367771,unclassified,9687eeed,outputs/abundtrim/HSMA33MX.abundtrim.fq.gz,0.6243687897051637,3732000\n",
      "HSMA33MX,phylum,0.11607499002792182,d__Bacteria;p__Bacteroidota,9687eeed,outputs/abundtrim/HSMA33MX.abundtrim.fq.gz,0.07265026877341586,582000\n",
      "HSMA33MX,phylum,0.08815317112086159,d__Bacteria;p__Proteobacteria,9687eeed,outputs/abundtrim/HSMA33MX.abundtrim.fq.gz,0.05815279361459521,442000\n",
      "HSMA33MX,phylum,0.051455923414439574,Eukaryota;Apicomplexa,9687eeed,outputs/abundtrim/HSMA33MX.abundtrim.fq.gz,0.24482814790682522,258000\n",
      "HSMA33MX,phylum,0.7443159154367771,unclassified,9687eeed,outputs/abundtrim/HSMA33MX.abundtrim.fq.gz,0.6243687897051637,3732000\n",
      "HSMA33MX,class,0.11607499002792182,d__Bacteria;p__Bacteroidota;c__Bacteroidia,9687eeed,outputs/abundtrim/HSMA33MX.abundtrim.fq.gz,0.07265026877341586,582000\n",
      "HSMA33MX,class,0.08815317112086159,d__Bacteria;p__Proteobacteria;c__Gammaproteobacteria,9687eeed,outputs/abundtrim/HSMA33MX.abundtrim.fq.gz,0.05815279361459521,442000\n"
     ]
    }
   ],
   "source": [
    "%%bash\n",
    "head HSMA33MX.gather-tax.summarized.csv"
   ]
  },
  {
   "cell_type": "code",
   "execution_count": 14,
   "id": "1176fa31-c4f7-4bb0-ae00-6e1766570ff9",
   "metadata": {},
   "outputs": [
    {
     "name": "stdout",
     "output_type": "stream",
     "text": [
      "fraction\tsuperkingdom\tphylum\tclass\torder\tfamily\tgenus\tspecies\n",
      "0.0885520542481053\td__Bacteria\tp__Bacteroidota\tc__Bacteroidia\to__Bacteroidales\tf__Bacteroidaceae\tg__Prevotella\ts__Prevotella copri\n",
      "0.08815317112086159\td__Bacteria\tp__Proteobacteria\tc__Gammaproteobacteria\to__Enterobacterales\tf__Enterobacteriaceae\tg__Escherichia\ts__Escherichia coli\n",
      "0.041084962106102914\tEukaryota\tApicomplexa\tAconoidasida\tHaemosporida\tPlasmodiidae\tPlasmodium\tPlasmodium vivax\n",
      "0.027522935779816515\td__Bacteria\tp__Bacteroidota\tc__Bacteroidia\to__Bacteroidales\tf__Bacteroidaceae\tg__Phocaeicola\ts__Phocaeicola vulgatus\n",
      "0.010370961308336658\tEukaryota\tApicomplexa\tConoidasida\tEucoccidiorida\tSarcocystidae\tToxoplasma\tToxoplasma gondii\n",
      "0.7443159154367771\tunclassified\tunclassified\tunclassified\tunclassified\tunclassified\tunclassified\tunclassified\n"
     ]
    }
   ],
   "source": [
    "%%bash\n",
    "head HSMA33MX.gather-tax.krona.tsv"
   ]
  },
  {
   "cell_type": "code",
   "execution_count": 35,
   "id": "6757a1ad-10a1-4114-839c-aca085de4df7",
   "metadata": {},
   "outputs": [
    {
     "name": "stdout",
     "output_type": "stream",
     "text": [
      "Writing text.krona.html...\n"
     ]
    }
   ],
   "source": [
    "# generate krona html\n",
    "!ktImportText HSMA33MX.gather-tax.krona.tsv"
   ]
  },
  {
   "cell_type": "markdown",
   "id": "950054e4-8171-4618-8b0f-88d8cb9bf4d9",
   "metadata": {},
   "source": [
    "### comparing metagenomes with `sourmash tax metagenome`:\n",
    "\n",
    "We can also download a second metagenome `gather` csv and use `metagenome` to generate a\n",
    "`lineage_summary` output to compare these samples.\n",
    "\n",
    "\n",
    "> The lineage summary format is most useful when comparing across metagenome queries.\n",
    "> Each row is a lineage at the desired reporting rank. The columns are each query used for\n",
    "> gather, with the fraction match reported for each lineage. This format is commonly used\n",
    "> as input for many external multi-sample visualization tools."
   ]
  },
  {
   "cell_type": "code",
   "execution_count": 15,
   "id": "3f07fa00-4c3b-4f6d-b45b-17300ccd5116",
   "metadata": {},
   "outputs": [
    {
     "name": "stderr",
     "output_type": "stream",
     "text": [
      "  % Total    % Received % Xferd  Average Speed   Time    Time     Time  Current\n",
      "                                 Dload  Upload   Total   Spent    Left  Speed\n",
      "100   459  100   459    0     0   1180      0 --:--:-- --:--:-- --:--:--  1182\n",
      "100  2312  100  2312    0     0   1202      0  0:00:01  0:00:01 --:--:--  1742\n"
     ]
    }
   ],
   "source": [
    "%%bash\n",
    "\n",
    "curl -L https://osf.io/nqtgs/download -o gather/PSM7J4EF_gather_x_gtdbrs202_genbank_k31.csv"
   ]
  },
  {
   "cell_type": "code",
   "execution_count": 16,
   "id": "4b6f3591-2e52-456c-bead-973631d4d1da",
   "metadata": {},
   "outputs": [
    {
     "name": "stderr",
     "output_type": "stream",
     "text": [
      "\u001b[K\n",
      "== This is sourmash version 4.2.1. ==\n",
      "\u001b[K== Please cite Brown and Irber (2016), doi:10.21105/joss.00027. ==\n",
      "\n",
      "\u001b[Kloaded 6 gather results.\n",
      "\u001b[Kof 6, missed 0 lineage assignments.\n",
      "\u001b[Kloaded 5 gather results.\n",
      "\u001b[Kof 5, missed 0 lineage assignments.\n",
      "\u001b[Kloaded results from 2 gather CSVs\n",
      "\u001b[Ksaving `lineage_summary` output to HSMA33MX-PSM7J4EF.gather-tax.lineage_summary.tsv.\n"
     ]
    }
   ],
   "source": [
    "%%bash\n",
    "sourmash tax metagenome --gather-csv gather/HSMA33MX_gather_x_gtdbrs202_genbank_k31.csv \\\n",
    "                                     gather/PSM7J4EF_gather_x_gtdbrs202_genbank_k31.csv \\\n",
    "                        --taxonomy  lineages/gtdb-rs202_genbank.taxonomy.db \\\n",
    "                        --output-format lineage_summary --rank species \\\n",
    "                        --output-base HSMA33MX-PSM7J4EF.gather-tax"
   ]
  },
  {
   "cell_type": "code",
   "execution_count": 17,
   "id": "2d47c18f-ef00-4360-a0af-9b47b1353ee9",
   "metadata": {},
   "outputs": [
    {
     "name": "stdout",
     "output_type": "stream",
     "text": [
      "lineage\tHSMA33MX\tPSM7J4EF\n",
      "Eukaryota;Apicomplexa;Aconoidasida;Haemosporida;Plasmodiidae;Plasmodium;Plasmodium vivax\t0.041084962106102914\t0.004553734061930784\n",
      "Eukaryota;Apicomplexa;Conoidasida;Eucoccidiorida;Sarcocystidae;Toxoplasma;Toxoplasma gondii\t0.010370961308336658\t0.0011275912915257177\n",
      "d__Bacteria;p__Bacteroidota;c__Bacteroidia;o__Bacteroidales;f__Bacteroidaceae;g__Bacteroides;s__Bacteroides fragilis\t0\t0.05134877266024807\n",
      "d__Bacteria;p__Bacteroidota;c__Bacteroidia;o__Bacteroidales;f__Bacteroidaceae;g__Bacteroides;s__Bacteroides ovatus\t0\t0.056726515742909184\n",
      "d__Bacteria;p__Bacteroidota;c__Bacteroidia;o__Bacteroidales;f__Bacteroidaceae;g__Phocaeicola;s__Phocaeicola dorei\t0\t0.10625379477838494\n",
      "d__Bacteria;p__Bacteroidota;c__Bacteroidia;o__Bacteroidales;f__Bacteroidaceae;g__Phocaeicola;s__Phocaeicola vulgatus\t0.027522935779816515\t0\n",
      "d__Bacteria;p__Bacteroidota;c__Bacteroidia;o__Bacteroidales;f__Bacteroidaceae;g__Prevotella;s__Prevotella copri\t0.0885520542481053\t0\n",
      "d__Bacteria;p__Proteobacteria;c__Gammaproteobacteria;o__Enterobacterales;f__Enterobacteriaceae;g__Escherichia;s__Escherichia coli\t0.08815317112086159\t0\n",
      "unclassified\t0.7443159154367771\t0.7799895914650012\n"
     ]
    }
   ],
   "source": [
    "%%bash\n",
    "head HSMA33MX-PSM7J4EF.gather-tax.lineage_summary.tsv"
   ]
  },
  {
   "cell_type": "markdown",
   "id": "a55df023-70d1-4761-9745-0b66546fae03",
   "metadata": {},
   "source": [
    "Note, these are mini gather results, so your unclassified fraction will hopefully be much smaller!"
   ]
  },
  {
   "cell_type": "markdown",
   "id": "8239ec2a-01b9-449a-bca0-3f376fed3820",
   "metadata": {
    "jp-MarkdownHeadingCollapsed": true,
    "tags": []
   },
   "source": [
    "## Classifying genomes with `sourmash tax genome`"
   ]
  },
  {
   "cell_type": "markdown",
   "id": "da56f6f5-2f5b-44b3-aeb7-ea1c72e8a94b",
   "metadata": {},
   "source": [
    "To illustrate the utility of genome, let’s consider a signature consisting of two different\n",
    "Shewanella strains, Shewanella baltica OS185 strain=OS185 and Shewanella baltica OS223 strain=OS223.\n",
    "For simplicity, we gave this query the name “Sb47+63”."
   ]
  },
  {
   "cell_type": "markdown",
   "id": "19e4c735-fccf-48f6-ae44-8a08272990ee",
   "metadata": {},
   "source": [
    "When we gather this signature against the gtdb-rs202 representatives database, we see 66% matches to one strain, and 33% to the other:\n",
    "\n",
    "abbreviated `gather_csv`:\n",
    "\n",
    "```\n",
    "f_match,f_unique_to_query,name,query_name\n",
    "0.664,0.664,\"GCF_000021665.1 Shewanella baltica OS223 strain=OS223, ASM2166v1\",Sb47+63\n",
    "0.656,0.335,\"GCF_000017325.1 Shewanella baltica OS185 strain=OS185, ASM1732v1\",Sb47+63\n",
    "```\n",
    "> Here, f_match shows that independently, both strains match ~65% percent of this mixed query.\n",
    "> The f_unique_to_query column has the results of gather-style decomposition. As the OS223 strain\n",
    "> had a slightly higher f_match (66%), it was the first match. The remaining 33% of the query\n",
    "> matched to strain OS185."
   ]
  },
  {
   "cell_type": "markdown",
   "id": "5fda8287-9420-4635-9a03-2a64d33a647f",
   "metadata": {},
   "source": [
    "#### download the gather results"
   ]
  },
  {
   "cell_type": "code",
   "execution_count": 18,
   "id": "33604b7a-1b3f-40b2-ba9e-58d89de4e1da",
   "metadata": {},
   "outputs": [
    {
     "name": "stderr",
     "output_type": "stream",
     "text": [
      "  % Total    % Received % Xferd  Average Speed   Time    Time     Time  Current\n",
      "                                 Dload  Upload   Total   Spent    Left  Speed\n",
      "100   459  100   459    0     0   1267      0 --:--:-- --:--:-- --:--:--  1267\n",
      "100   820  100   820    0     0    738      0  0:00:01  0:00:01 --:--:--     0\n"
     ]
    }
   ],
   "source": [
    "%%bash\n",
    "\n",
    "curl -L https://osf.io/pgsc2/download -o gather/Sb47+63_x_gtdb-rs202.gather.csv"
   ]
  },
  {
   "cell_type": "code",
   "execution_count": 19,
   "id": "4bf28bc1-e5ab-44be-bc52-119c742e2cd6",
   "metadata": {},
   "outputs": [
    {
     "name": "stdout",
     "output_type": "stream",
     "text": [
      "intersect_bp,f_orig_query,f_match,f_unique_to_query,f_unique_weighted,average_abund,median_abund,std_abund,name,filename,md5,f_match_orig,unique_intersect_bp,gather_result_rank,remaining_bp,query_filename,query_name,query_md5,query_bp\n",
      "5238000,0.6642150646715699,1.0,0.6642150646715699,0.6642150646715699,,,,\"GCF_000021665.1 Shewanella baltica OS223 strain=OS223, ASM2166v1\",/group/ctbrowngrp/gtdb/databases/ctb/gtdb-rs202.genomic.k31.sbt.zip,38729c6374925585db28916b82a6f513,1.0,5238000,0,2648000,,Sb47+63,491c0a81,7886000\n",
      "5177000,0.6564798376870403,0.5114931427467645,0.3357849353284301,0.3357849353284301,,,,\"GCF_000017325.1 Shewanella baltica OS185 strain=OS185, ASM1732v1\",/group/ctbrowngrp/gtdb/databases/ctb/gtdb-rs202.genomic.k31.sbt.zip,09a08691ce52952152f0e866a59f6261,1.0,2648000,1,0,,Sb47+63,491c0a81,7886000\n"
     ]
    }
   ],
   "source": [
    "%%bash\n",
    "\n",
    "head gather/Sb47+63_x_gtdb-rs202.gather.csv"
   ]
  },
  {
   "cell_type": "markdown",
   "id": "e3c812ca-15e9-446a-acc2-40074de9a4c7",
   "metadata": {},
   "source": [
    "#### Now, let's run `tax genome` classification:"
   ]
  },
  {
   "cell_type": "code",
   "execution_count": 20,
   "id": "6bce9c96-ad4f-4ee3-9365-8b9a58f52f3e",
   "metadata": {},
   "outputs": [
    {
     "name": "stdout",
     "output_type": "stream",
     "text": [
      "usage: \n",
      "\n",
      "    sourmash tax genome --gather-csv <gather_csv> [ ... ] --taxonomy-csv <taxonomy-csv> [ ... ]\n",
      "\n",
      "The 'tax genome' command reads in genome gather result CSVs and reports likely\n",
      "classification for each query genome.\n",
      "\n",
      "By default, classification uses a containment threshold of 0.1, meaning at least\n",
      "10 percent of the query was covered by matches with the reported taxonomic rank and lineage.\n",
      "You can specify an alternate classification threshold or force classification by\n",
      "taxonomic rank instead, e.g. at species or genus-level.\n",
      "\n",
      "The default output format consists of five columns,\n",
      " `query_name,status,rank,fraction,lineage`, where `fraction` is the fraction\n",
      " of the query matched to the reported rank and lineage. The `status` column\n",
      " provides additional information on the classification, and can be:\n",
      "  - `match` - this query was classified\n",
      "  - `nomatch`- this query could not be classified\n",
      "  - `below_threshold` - this query was classified at the specified rank,\n",
      "     but the query fraction matched was below the containment threshold\n",
      "\n",
      "Optionally, you can report classifications in `krona` format, but note\n",
      "that this forces classification by rank, rather than containment threshold.\n",
      "\n",
      "Please see the 'tax genome' documentation for more details:\n",
      "  https://sourmash.readthedocs.io/en/latest/command-line.html#sourmash-tax-genome-classify-a-genome-using-gather-results\n",
      "\n",
      "optional arguments:\n",
      "  -h, --help            show this help message and exit\n",
      "  -g [GATHER_CSV ...], --gather-csv [GATHER_CSV ...]\n",
      "                        CSVs output by sourmash gather for this sample\n",
      "  --from-file FILE      input many gather results as a text file, with one\n",
      "                        gather CSV per line\n",
      "  -q, --quiet           suppress non-error output\n",
      "  -t FILE [FILE ...], --taxonomy-csv FILE [FILE ...], --taxonomy FILE [FILE ...]\n",
      "                        database lineages CSV\n",
      "  -o OUTPUT_BASE, --output-base OUTPUT_BASE\n",
      "                        base filepath for output file(s) (default stdout)\n",
      "  --output-dir OUTPUT_DIR\n",
      "                        directory for output files\n",
      "  -r {strain,species,genus,family,order,class,phylum,superkingdom}, --rank {strain,species,genus,family,order,class,phylum,superkingdom}\n",
      "                        Summarize genome taxonomy at this rank and above. Note\n",
      "                        that the taxonomy CSV must contain lineage information\n",
      "                        at this rank.\n",
      "  --keep-full-identifiers\n",
      "                        do not split identifiers on whitespace\n",
      "  --keep-identifier-versions\n",
      "                        after splitting identifiers, do not remove accession\n",
      "                        versions\n",
      "  --fail-on-missing-taxonomy\n",
      "                        fail quickly if taxonomy is not available for an\n",
      "                        identifier\n",
      "  --output-format {csv_summary,krona} [{csv_summary,krona} ...]\n",
      "                        choose output format(s)\n",
      "  -f, --force           continue past survivable errors in loading taxonomy\n",
      "                        database or gather results\n",
      "  --containment-threshold CONTAINMENT_THRESHOLD\n",
      "                        minimum containment threshold for classification;\n",
      "                        default=0.1\n"
     ]
    },
    {
     "name": "stderr",
     "output_type": "stream",
     "text": [
      "\u001b[K\n",
      "== This is sourmash version 4.2.1. ==\n",
      "\u001b[K== Please cite Brown and Irber (2016), doi:10.21105/joss.00027. ==\n",
      "\n"
     ]
    }
   ],
   "source": [
    "%%bash\n",
    "# to see the arguments, run the `--help` like so:\n",
    "sourmash tax genome --help"
   ]
  },
  {
   "cell_type": "code",
   "execution_count": 21,
   "id": "ce297441-dcd2-42b9-9bf6-ca91f7ccbf6c",
   "metadata": {},
   "outputs": [
    {
     "name": "stderr",
     "output_type": "stream",
     "text": [
      "\u001b[K\n",
      "== This is sourmash version 4.2.1. ==\n",
      "\u001b[K== Please cite Brown and Irber (2016), doi:10.21105/joss.00027. ==\n",
      "\n",
      "\u001b[Kloaded 2 gather results.\n",
      "\u001b[Kof 2, missed 0 lineage assignments.\n",
      "\u001b[Kloaded results from 1 gather CSVs\n",
      "\u001b[Ksaving `classification` output to Sb47+63.gather-tax.classifications.csv.\n"
     ]
    }
   ],
   "source": [
    "%%bash\n",
    "\n",
    "sourmash tax genome --gather-csv gather/Sb47+63_x_gtdb-rs202.gather.csv \\\n",
    "                    --taxonomy lineages/gtdb-rs202_genbank.taxonomy.db \\\n",
    "                    --output-base Sb47+63.gather-tax"
   ]
  },
  {
   "cell_type": "markdown",
   "id": "646d28a2-5419-434d-8343-74c4a9a3323f",
   "metadata": {},
   "source": [
    "The default output format is `csv_summary`.\n",
    "\n",
    "This outputs a csv with taxonomic classification for each query genome. This output currently consists of six columns:\n",
    "`query_name`,`rank`,`fraction`,`lineage`,`query_md5`,`query_filename`, where `fraction` is the fraction of the query matched to\n",
    "the reported rank and lineage. The `status` column provides additional information on the classification:\n",
    "\n",
    "- `match` - this query was classified\n",
    "- `nomatch` - this query could not be classified\n",
    "- `below_threshold` - this query was classified at the specified rank,\n",
    "but the query fraction matched was below the containment threshold"
   ]
  },
  {
   "cell_type": "code",
   "execution_count": 22,
   "id": "616924c5-2a33-4ef5-836f-da46016903c3",
   "metadata": {},
   "outputs": [
    {
     "name": "stdout",
     "output_type": "stream",
     "text": [
      "Sb47+63.gather-tax.classifications.csv\n"
     ]
    }
   ],
   "source": [
    "!ls Sb47+63.gather-tax*"
   ]
  },
  {
   "cell_type": "code",
   "execution_count": 23,
   "id": "ac8a25c7-1dbd-455c-aafa-c8d90cbc822f",
   "metadata": {},
   "outputs": [
    {
     "name": "stdout",
     "output_type": "stream",
     "text": [
      "query_name,status,rank,fraction,lineage,query_md5,query_filename,f_weighted_at_rank,bp_match_at_rank\n",
      "Sb47+63,match,species,1.0,d__Bacteria;p__Proteobacteria;c__Gammaproteobacteria;o__Enterobacterales;f__Shewanellaceae;g__Shewanella;s__Shewanella baltica,491c0a81,,1.0,7886000.0\n"
     ]
    }
   ],
   "source": [
    "!head Sb47+63.gather-tax.classifications.csv"
   ]
  },
  {
   "cell_type": "markdown",
   "id": "363b077e-7ab9-4830-84db-943ef780d4a2",
   "metadata": {},
   "source": [
    "> Here, we see that the match percentages to both strains have been aggregated, and we have 100% species-level\n",
    "> Shewanella baltica annotation (fraction = 1.0)."
   ]
  },
  {
   "cell_type": "markdown",
   "id": "526a0090-c474-4e59-8aa8-c5227331801c",
   "metadata": {
    "tags": []
   },
   "source": [
    "## `sourmash tax annotate`"
   ]
  },
  {
   "cell_type": "markdown",
   "id": "9afb9f01-8d9f-40ba-a55e-7446f0db7000",
   "metadata": {},
   "source": [
    "`sourmash tax annotate` adds a column with taxonomic lineage information for each database match to gather output.\n",
    "It does not do any LCA summarization or classification. The results from `annotate` are not required for any other\n",
    "`tax` command, but may be useful if you're doing your own exploration of `gather` results."
   ]
  },
  {
   "cell_type": "markdown",
   "id": "ce3b7108-2d6a-44ca-868b-292b7ce44212",
   "metadata": {},
   "source": [
    "Let's annotate a previously downloaded `gather` file"
   ]
  },
  {
   "cell_type": "code",
   "execution_count": 24,
   "id": "2fe3525a-25a4-4589-8035-85afed21bb82",
   "metadata": {},
   "outputs": [
    {
     "name": "stderr",
     "output_type": "stream",
     "text": [
      "\u001b[K\n",
      "== This is sourmash version 4.2.1. ==\n",
      "\u001b[K== Please cite Brown and Irber (2016), doi:10.21105/joss.00027. ==\n",
      "\n",
      "\u001b[Kloaded 2 gather results.\n",
      "\u001b[Kof 2, missed 0 lineage assignments.\n",
      "\u001b[Kloaded results from 1 gather CSVs\n",
      "\u001b[Ksaving `annotate` output to Sb47+63_x_gtdb-rs202.gather.with-lineages.csv.\n"
     ]
    }
   ],
   "source": [
    "%%bash\n",
    "sourmash tax annotate --gather-csv gather/Sb47+63_x_gtdb-rs202.gather.csv \\\n",
    "                      --taxonomy lineages/gtdb-rs202_genbank.taxonomy.db"
   ]
  },
  {
   "cell_type": "code",
   "execution_count": 25,
   "id": "5c9e08c4-f0d1-4856-a9ae-475152689b38",
   "metadata": {},
   "outputs": [
    {
     "name": "stdout",
     "output_type": "stream",
     "text": [
      "intersect_bp,f_orig_query,f_match,f_unique_to_query,f_unique_weighted,average_abund,median_abund,std_abund,name,filename,md5,f_match_orig,unique_intersect_bp,gather_result_rank,remaining_bp,query_filename,query_name,query_md5,query_bp,lineage\n",
      "5238000,0.6642150646715699,1.0,0.6642150646715699,0.6642150646715699,,,,\"GCF_000021665.1 Shewanella baltica OS223 strain=OS223, ASM2166v1\",/group/ctbrowngrp/gtdb/databases/ctb/gtdb-rs202.genomic.k31.sbt.zip,38729c6374925585db28916b82a6f513,1.0,5238000,0,2648000,,Sb47+63,491c0a81,7886000,d__Bacteria;p__Proteobacteria;c__Gammaproteobacteria;o__Enterobacterales;f__Shewanellaceae;g__Shewanella;s__Shewanella baltica\n",
      "5177000,0.6564798376870403,0.5114931427467645,0.3357849353284301,0.3357849353284301,,,,\"GCF_000017325.1 Shewanella baltica OS185 strain=OS185, ASM1732v1\",/group/ctbrowngrp/gtdb/databases/ctb/gtdb-rs202.genomic.k31.sbt.zip,09a08691ce52952152f0e866a59f6261,1.0,2648000,1,0,,Sb47+63,491c0a81,7886000,d__Bacteria;p__Proteobacteria;c__Gammaproteobacteria;o__Enterobacterales;f__Shewanellaceae;g__Shewanella;s__Shewanella baltica\n"
     ]
    }
   ],
   "source": [
    "!head Sb47+63_x_gtdb-rs202.gather.with-lineages.csv"
   ]
  }
 ],
 "metadata": {
  "kernelspec": {
   "display_name": "Python 3 (ipykernel)",
   "language": "python",
   "name": "python3"
  },
  "language_info": {
   "codemirror_mode": {
    "name": "ipython",
    "version": 3
   },
   "file_extension": ".py",
   "mimetype": "text/x-python",
   "name": "python",
   "nbconvert_exporter": "python",
   "pygments_lexer": "ipython3",
   "version": "3.9.6"
  },
  "toc-autonumbering": true
 },
 "nbformat": 4,
 "nbformat_minor": 5
}
